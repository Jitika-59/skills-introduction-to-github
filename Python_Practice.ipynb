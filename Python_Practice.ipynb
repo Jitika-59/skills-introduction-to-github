{
 "cells": [
  {
   "cell_type": "code",
   "execution_count": 2,
   "id": "cd35bad3-6131-4e8b-a45b-90698a0273b6",
   "metadata": {},
   "outputs": [
    {
     "name": "stdout",
     "output_type": "stream",
     "text": [
      "18\n"
     ]
    }
   ],
   "source": [
    "course = \"Python Programming\"\n",
    "#len used for length of the string\n",
    "print(len(course))"
   ]
  },
  {
   "cell_type": "code",
   "execution_count": 7,
   "id": "d8ff3cc6-a68f-42ac-8d98-d03f8621fdb0",
   "metadata": {},
   "outputs": [
    {
     "name": "stdout",
     "output_type": "stream",
     "text": [
      "P\n",
      "g\n",
      "Pyt\n",
      "Python Programming\n",
      "Python Programming\n",
      "Pyt\n"
     ]
    }
   ],
   "source": [
    "#access to specific character\n",
    "print(course[0])\n",
    "print(course[-1])\n",
    "\n",
    "#slice string\n",
    "print(course[0:3])\n",
    "print(course[0:])\n",
    "print(course[:18])\n",
    "print(course[:3])"
   ]
  },
  {
   "cell_type": "code",
   "execution_count": 10,
   "id": "8fe97359-4a81-42b5-bfeb-60639651caf3",
   "metadata": {},
   "outputs": [
    {
     "name": "stdout",
     "output_type": "stream",
     "text": [
      "Python \n",
      "Programming\n"
     ]
    }
   ],
   "source": [
    "#double quote between double qoute used \\(escape character after)\n",
    "#\\\"=\"Programming\n",
    "#\\'='Programming\n",
    "#\\\\ = \\Programming\n",
    "#\\n\n",
    "course = \"Python \\nProgramming\"\n",
    "print(course)"
   ]
  },
  {
   "cell_type": "code",
   "execution_count": 15,
   "id": "27124c4b-cf59-4a2a-84d5-5519e8ee6292",
   "metadata": {},
   "outputs": [
    {
     "name": "stdout",
     "output_type": "stream",
     "text": [
      "Jitika 4 Gupta\n"
     ]
    }
   ],
   "source": [
    "first = 'Jitika'\n",
    "last = 'Gupta'\n",
    "full = F'{first} {2+2} {last}'\n",
    "print(full)"
   ]
  },
  {
   "cell_type": "code",
   "execution_count": 19,
   "id": "434c141b-d950-4f02-adf0-d05bac8ffe29",
   "metadata": {},
   "outputs": [
    {
     "name": "stdout",
     "output_type": "stream",
     "text": [
      "Python Programming\n",
      "True\n",
      "True\n"
     ]
    }
   ],
   "source": [
    "course = \"  Python Programming\"\n",
    "print(course.strip()) #removes empty space l n r added for left n rite\n",
    "#find replace, title,uppr, lower\n",
    "print('Pro' in course) #boolean reponse\n",
    "print('pro' not in course)"
   ]
  },
  {
   "cell_type": "code",
   "execution_count": 21,
   "id": "123cc38b-7fc1-468e-8b6e-3a701c901a36",
   "metadata": {},
   "outputs": [
    {
     "name": "stdout",
     "output_type": "stream",
     "text": [
      "3.3333333333333335\n",
      "3\n",
      "1\n",
      "1000\n"
     ]
    }
   ],
   "source": [
    "#/ = float divisision\n",
    "print(10 / 3)\n",
    "#//integer division\n",
    "print(10 // 3)\n",
    "#modulus or remeinder\n",
    "print(10 % 3)\n",
    "#power\n",
    "print(10 ** 3)"
   ]
  },
  {
   "cell_type": "code",
   "execution_count": 26,
   "id": "7da8a85e-ceeb-4519-8ca8-7c7940c333c0",
   "metadata": {},
   "outputs": [
    {
     "name": "stdout",
     "output_type": "stream",
     "text": [
      "13\n",
      "2\n"
     ]
    }
   ],
   "source": [
    "x = 10\n",
    "x += 3\n",
    "print(x)\n",
    "#wrong syntax , cannot be used directly print(x =+ 3)\n",
    "#round() = round up number\n",
    "#abs = absolute value\n",
    "print(round(2.2))"
   ]
  },
  {
   "cell_type": "code",
   "execution_count": 28,
   "id": "4940c884-994c-44e9-b39f-6269b62c6ccd",
   "metadata": {},
   "outputs": [
    {
     "name": "stdout",
     "output_type": "stream",
     "text": [
      "3\n",
      "2\n"
     ]
    }
   ],
   "source": [
    "#math module fro python 3\n",
    "import math\n",
    "#ceil function >= round off\n",
    "print ( math.ceil(2.2))\n",
    "#floor function <= round off\n",
    "print(math.floor(2.2))\n",
    "#https://docs.python.org/3/library/math.html"
   ]
  },
  {
   "cell_type": "code",
   "execution_count": 32,
   "id": "c243cc6d-d0ee-4b04-843e-0c5614de9710",
   "metadata": {},
   "outputs": [
    {
     "name": "stdout",
     "output_type": "stream",
     "text": [
      "x: 1 , y: 2\n"
     ]
    },
    {
     "data": {
      "text/plain": [
       "'Yes! The f prefix before a string in Python creates an f-string \\n(formatted string literal), which allows you to embed expressions inside curly braces {}. \\nThese expressions are evaluated at fast\\nruntime, and their values are inserted into the string.\\nCleaner code: No need for .format() or % placeholders.\\nPerformance: Faster at runtime.\\nFlexibility: Can include any valid Python expression inside {}.'"
      ]
     },
     "execution_count": 32,
     "metadata": {},
     "output_type": "execute_result"
    }
   ],
   "source": [
    "x = '1'\n",
    "y = int(x) + 1\n",
    "print(f\"x: {x} , y: {y}\")\n",
    "\n",
    "\"\"\"The f prefix before a string in Python creates an f-string \n",
    "(formatted string literal), which allows you to embed expressions inside curly braces {}. \n",
    "These expressions are evaluated at fast\n",
    "runtime, and their values are inserted into the string.\n",
    "Cleaner code: No need for .format() or % placeholders.\n",
    "Performance: Faster at runtime.\n",
    "Flexibility: Can include any valid Python expression inside {}.\"\"\""
   ]
  },
  {
   "cell_type": "code",
   "execution_count": 37,
   "id": "5d9504f9-6b5b-4b30-b978-5cbbe0812a83",
   "metadata": {},
   "outputs": [
    {
     "data": {
      "text/plain": [
       "98"
      ]
     },
     "execution_count": 37,
     "metadata": {},
     "output_type": "execute_result"
    }
   ],
   "source": [
    "# comparision operators\n",
    "10 > 3\n",
    "ord('b')"
   ]
  },
  {
   "cell_type": "code",
   "execution_count": 42,
   "id": "b96a6b10-55af-4ceb-aa91-518960c1acff",
   "metadata": {},
   "outputs": [
    {
     "name": "stdout",
     "output_type": "stream",
     "text": [
      "Not Eligible\n",
      "Not Eligible\n"
     ]
    }
   ],
   "source": [
    "#ternary operator for cleaner code\n",
    "age = 15\n",
    "if age >= 18:\n",
    "    message = 'Eligible'\n",
    "else:\n",
    "    message = 'Not Eligible'\n",
    "print(message)\n",
    "#or\n",
    "\n",
    "Message = 'Eligible' if age >= 18 else 'Not Eligible'\n",
    "print(Message)\n"
   ]
  },
  {
   "cell_type": "code",
   "execution_count": 48,
   "id": "53f18528-22a5-418d-82ec-1377ba2cb41f",
   "metadata": {},
   "outputs": [
    {
     "name": "stdout",
     "output_type": "stream",
     "text": [
      "not appilicable\n",
      "applicable\n",
      "yes\n",
      "eligilble\n"
     ]
    }
   ],
   "source": [
    "#and operator used\n",
    "high_income = False\n",
    "good_credit = True\n",
    "approval = 'applicable' if high_income and good_credit else 'not appilicable'\n",
    "print(approval)\n",
    "#or operator used\n",
    "high_income = False\n",
    "good_credit = True\n",
    "Approval = 'applicable' if high_income or good_credit else 'not appilicable'\n",
    "print(Approval)\n",
    "#not operator used\n",
    "student = False\n",
    "if not student:\n",
    "    print('yes')\n",
    "else:\n",
    "    print('no')\n",
    "#condition either both or one condition is true n not a student condition is true\n",
    "high_income = False\n",
    "good_credit = True\n",
    "student = False\n",
    "\n",
    "if (high_income or good_credit) and not student:\n",
    "    print('eligilble')\n",
    "else:\n",
    "    print('not')"
   ]
  },
  {
   "cell_type": "code",
   "execution_count": 54,
   "id": "6fa0a419-3260-40b4-aa78-8509f1617bdd",
   "metadata": {},
   "outputs": [
    {
     "name": "stdout",
     "output_type": "stream",
     "text": [
      "young\n"
     ]
    }
   ],
   "source": [
    "age = 19\n",
    "if 18 <= age <30:\n",
    "    print('young')\n",
    "elif 31 <= age <45:\n",
    "    print('mid age')\n",
    "elif 46 <= age <65:\n",
    "    print('old')\n",
    "else:\n",
    "    print('die')"
   ]
  },
  {
   "cell_type": "code",
   "execution_count": 55,
   "id": "6b437d3a-d7e0-4b37-9ca1-294a39b80d46",
   "metadata": {},
   "outputs": [
    {
     "name": "stdout",
     "output_type": "stream",
     "text": [
      "c\n"
     ]
    }
   ],
   "source": [
    "if 10 == '10':\n",
    "    print('a')\n",
    "elif 'bag' > 'apple' and 'bag' > 'cat':\n",
    "    print('b')\n",
    "else:\n",
    "    print('c')"
   ]
  },
  {
   "cell_type": "code",
   "execution_count": 63,
   "id": "496ae781-244d-4901-82ba-1c4cdd2656a2",
   "metadata": {},
   "outputs": [
    {
     "name": "stdout",
     "output_type": "stream",
     "text": [
      "attempt 1 .\n",
      "attempt 2 ..\n",
      "attempt 3 ...\n",
      "processing...\n",
      "processing...\n",
      "processing...\n",
      "multiple attempts but failed\n"
     ]
    }
   ],
   "source": [
    "for number in range(3):\n",
    "    print('attempt' , number + 1, (number + 1) * '.')\n",
    "\n",
    "successful = False\n",
    "for number in range(3):\n",
    "    print('processing...')\n",
    "    if successful:\n",
    "        print('done')\n",
    "        break\n",
    "else:\n",
    "    print ('multiple attempts but failed')"
   ]
  },
  {
   "cell_type": "code",
   "execution_count": 67,
   "id": "56d6060c-4d05-499b-a3fe-ff9958bd77a2",
   "metadata": {},
   "outputs": [
    {
     "name": "stdout",
     "output_type": "stream",
     "text": [
      "0, 0\n",
      "0, 1\n",
      "0, 2\n",
      "1, 0\n",
      "1, 1\n",
      "1, 2\n",
      "l\n",
      "o\n",
      "o\n",
      "p\n",
      "s\n"
     ]
    }
   ],
   "source": [
    "#nested loops\n",
    "#string ,list, range is iterable\n",
    "for x in range(2):\n",
    "    for y in range(3):\n",
    "        print(f'{x}, {y}')\n",
    "\n",
    "for x in 'loops':\n",
    "    print(x)"
   ]
  },
  {
   "cell_type": "code",
   "execution_count": 88,
   "id": "87a32329-b545-408b-9ad2-6a8f716103c8",
   "metadata": {},
   "outputs": [
    {
     "name": "stdout",
     "output_type": "stream",
     "text": [
      "300\n",
      "150\n",
      "75\n",
      "37\n",
      "18\n",
      "9\n",
      "4\n",
      "2\n",
      "1\n"
     ]
    },
    {
     "name": "stdin",
     "output_type": "stream",
     "text": [
      "> ty\n"
     ]
    },
    {
     "name": "stdout",
     "output_type": "stream",
     "text": [
      "continue ty\n"
     ]
    },
    {
     "name": "stdin",
     "output_type": "stream",
     "text": [
      "> helllo\n"
     ]
    },
    {
     "name": "stdout",
     "output_type": "stream",
     "text": [
      "continue helllo\n"
     ]
    },
    {
     "name": "stdin",
     "output_type": "stream",
     "text": [
      "> quit\n"
     ]
    },
    {
     "name": "stdout",
     "output_type": "stream",
     "text": [
      "continue quit\n"
     ]
    }
   ],
   "source": [
    "#while loop : run as long as condition is true\n",
    "\n",
    "number = 300\n",
    "while number > 0:\n",
    "    print(number)\n",
    "    number //= 2\n",
    "\n",
    "command =''\n",
    "while command != 'quit':\n",
    "    command = input('>')\n",
    "    print('continue',command)"
   ]
  },
  {
   "cell_type": "code",
   "execution_count": 90,
   "id": "8918e6c9-463e-4dcc-9a70-711f3624a7ce",
   "metadata": {},
   "outputs": [
    {
     "name": "stdin",
     "output_type": "stream",
     "text": [
      "> ccc\n"
     ]
    },
    {
     "name": "stdout",
     "output_type": "stream",
     "text": [
      "continue ccc\n"
     ]
    },
    {
     "name": "stdin",
     "output_type": "stream",
     "text": [
      "> c\n"
     ]
    },
    {
     "name": "stdout",
     "output_type": "stream",
     "text": [
      "continue c\n"
     ]
    },
    {
     "name": "stdin",
     "output_type": "stream",
     "text": [
      "> \n"
     ]
    },
    {
     "name": "stdout",
     "output_type": "stream",
     "text": [
      "continue \n"
     ]
    },
    {
     "name": "stdin",
     "output_type": "stream",
     "text": [
      "> quit\n"
     ]
    },
    {
     "name": "stdout",
     "output_type": "stream",
     "text": [
      "continue quit\n"
     ]
    }
   ],
   "source": [
    "while True:\n",
    "    command = input('>')\n",
    "    print('continue',command)\n",
    "    if command.lower() == 'quit':\n",
    "        break\n",
    "#infinite loop  "
   ]
  },
  {
   "cell_type": "code",
   "execution_count": 98,
   "id": "545de9a4-05ba-483b-a51e-53579e234c30",
   "metadata": {},
   "outputs": [
    {
     "name": "stdout",
     "output_type": "stream",
     "text": [
      "2\n",
      "4\n",
      "6\n",
      "8\n",
      "we have 4 even numbers\n"
     ]
    }
   ],
   "source": [
    "count = 0\n",
    "for x in range(1,10):\n",
    "    if x%2 == 0:\n",
    "        count += 1\n",
    "        print(x)\n",
    "print(f'we have {count} even numbers') #to count how many output"
   ]
  },
  {
   "cell_type": "code",
   "execution_count": 100,
   "id": "9d28f253-46ff-4c2d-8b2a-bace5b40ecc2",
   "metadata": {},
   "outputs": [
    {
     "name": "stdout",
     "output_type": "stream",
     "text": [
      "Hello there! Jitika Gupta\n",
      "Welcome to Your Stay\n"
     ]
    }
   ],
   "source": [
    "#perform atask :make your own function : def\n",
    "def greet(first_name , last_name):\n",
    "    print(f'Hello there! {first_name} {last_name}')\n",
    "    print('Welcome to Your Stay')\n",
    "\n",
    "greet('Jitika', 'Gupta')\n"
   ]
  },
  {
   "cell_type": "code",
   "execution_count": 104,
   "id": "2bf96f73-1869-4c02-85ea-32a0a09b9e1f",
   "metadata": {},
   "outputs": [
    {
     "name": "stdout",
     "output_type": "stream",
     "text": [
      "3\n"
     ]
    }
   ],
   "source": [
    "def increment(number, by=1):\n",
    "    return number + by\n",
    "\n",
    "print(increment(2))"
   ]
  },
  {
   "cell_type": "code",
   "execution_count": null,
   "id": "d324c7ad-39bd-4d93-9e0d-17e7154a1780",
   "metadata": {},
   "outputs": [],
   "source": []
  }
 ],
 "metadata": {
  "kernelspec": {
   "display_name": "Python [conda env:base] *",
   "language": "python",
   "name": "conda-base-py"
  },
  "language_info": {
   "codemirror_mode": {
    "name": "ipython",
    "version": 3
   },
   "file_extension": ".py",
   "mimetype": "text/x-python",
   "name": "python",
   "nbconvert_exporter": "python",
   "pygments_lexer": "ipython3",
   "version": "3.12.7"
  }
 },
 "nbformat": 4,
 "nbformat_minor": 5
}
